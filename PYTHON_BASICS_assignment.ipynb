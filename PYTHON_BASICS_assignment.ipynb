{
  "nbformat": 4,
  "nbformat_minor": 0,
  "metadata": {
    "colab": {
      "provenance": []
    },
    "kernelspec": {
      "name": "python3",
      "display_name": "Python 3"
    },
    "language_info": {
      "name": "python"
    }
  },
  "cells": [
    {
      "cell_type": "markdown",
      "source": [
        "#**PYTHON BASICS**"
      ],
      "metadata": {
        "id": "NCmdFfcEp4gy"
      }
    },
    {
      "cell_type": "markdown",
      "source": [
        "**THEORITICAL QUESTIONS**"
      ],
      "metadata": {
        "id": "BxLbAU4Xp6S6"
      }
    },
    {
      "cell_type": "markdown",
      "source": [
        "1. **What is Python, and why is it popular ?**\n",
        "   - Python is a high-level, interpreted programming language known for its simplicity, readability, and versatility.\n",
        "\n",
        "   - Python is often praised for its clean, easy-to-understand syntax, which makes it beginner-friendly while still being powerful for advanced users.\n",
        "\n",
        "   - Python has a massive collection of libraries and frameworks for almost every task, which allows developers to build robust solutions quickly without reinventing the wheel.\n",
        "\n",
        "   - Python has an active and supportive community. There are vast resources for learning, troubleshooting, and discussing Python-related topics.\n",
        "\n",
        "   - Python integrates well with other languages and technologies, making it a good choice for projects that require interaction with other systems or languages.\n",
        "\n",
        "   - Python has become the go-to language for data science and artificial intelligence due to its powerful libraries like **TensorFlow, Pandas, NumPy** and ease of use for statistical analysis and machine learning.\n",
        "\n",
        "   - This combination of readability, power, and a broad range of use cases is why Python continues to be one of the most popular programming languages in the world."
      ],
      "metadata": {
        "id": "Qu9cwuMGqxbc"
      }
    },
    {
      "cell_type": "markdown",
      "source": [
        "2. **What is an interpreter in Python ?**\n",
        "   - In Python, an interpreter is a program that reads and executes the Python code line by line, rather than compiling it all at once into machine code. It translates Python code into an intermediate form that can be understood and executed by the computer.\n",
        "\n",
        "   - The Python interpreter reads and executes the code one line at a time, which makes it easier to debug and experiment with code interactively.\n",
        "\n",
        "   - Unlike compiled languages (C, C++), where the entire code is first compiled into machine code and then executed, Python's interpreter directly executes the code without creating a separate compiled file.\n",
        "   \n",
        "   - The interpreter stops executing the code as soon as it encounters an error and reports the issue to the user. This allows for easier error tracing, especially for beginners.\n",
        "\n",
        "   - In short, Python is an interpreted language, and the interpreter translates the Python code into an executable form that the computer can run."
      ],
      "metadata": {
        "id": "Zlzta6ZZrmFH"
      }
    },
    {
      "cell_type": "markdown",
      "source": [
        "3. **What are Pre-defined keywords in Python ?**\n",
        "   - In Python, pre-defined keywords are reserved words that have a specific meaning and function within the language.\n",
        "\n",
        "   - These keywords cannot be used as identifiers (such as variable names, function names, or class names) because they are part of the syntax of the language.\n",
        "\n",
        "      - **if, else, elif** are used for conditional statements.\n",
        "      - **def** is used to define functions.\n",
        "      - **class** is used to define classes.\n",
        "      - **try, except** are used for exception handling."
      ],
      "metadata": {
        "id": "B-LWukH1qxhK"
      }
    },
    {
      "cell_type": "markdown",
      "source": [
        "4.  **Can keywords be used as variable names ?**\n",
        "    - No, keywords in Python cannot be used as variable names. Keywords are reserved words that have special meanings and are part of the Python syntax. Using them as variable names would result in a syntax error.\n",
        "    \n",
        "    - For example, the word **def** is a keyword used to define functions, and attempting to use it as a variable name would raise an error:"
      ],
      "metadata": {
        "id": "PFU-pfmFqx06"
      }
    },
    {
      "cell_type": "code",
      "source": [
        "def = 10  #This will cause an error of invalid syntax."
      ],
      "metadata": {
        "id": "wS_yPW7P67Sd"
      },
      "execution_count": null,
      "outputs": []
    },
    {
      "cell_type": "markdown",
      "source": [
        "5. **What is mutability in Python ?**\n",
        "   - In Python, mutability refers to the ability of an object to be modified after it has been created. Some objects in Python are mutable, meaning their values or contents can be changed, while others are immutable, meaning once created, they cannot be altered.\n",
        "\n",
        "      - **Lists** : We can change, add, or remove elements after the list has been created.\n",
        "      - **Dictionaries** : We can add, remove, or modify key-value pairs.\n",
        "      - **Sets** : We can add or remove elements."
      ],
      "metadata": {
        "id": "P0VB-rjryIaR"
      }
    },
    {
      "cell_type": "markdown",
      "source": [
        "6. **Why are lists mutable, but tuples are immutable ?**\n",
        "   - Lists are mutable, while tuples are immutable due to their design and intended use in Python.\n",
        "     - **Lists (Mutable)**: Lists are designed to be flexible, allowing us to modify their contents. We can add, remove, or change elements in a list. This mutability makes lists useful for situations where the collection of items might change over time, such as when we need to collect and update a series of data.\n",
        "\n",
        "    - **Tuples (Immutable)**: Tuples, on the other hand, are intended to be used for fixed collections of items.\n",
        "      - Since tuples are immutable, they can be used as keys in dictionaries, unlike lists which cannot be used as dictionary keys.\n",
        "    \n",
        "      - Tuples guarantee that their contents won’t change, which is useful for ensuring that data remains constant and predictable.\n",
        "\n",
        "      - Because tuples are immutable, Python can optimize their memory usage and access speed, making them slightly faster than lists when used for static collections of data.\n",
        "      \n",
        " - The mutability of lists allows for dynamic collections, while the immutability of tuples ensures stability and performance benefits, especially for constant data."
      ],
      "metadata": {
        "id": "jzmZoXpvyIz6"
      }
    },
    {
      "cell_type": "markdown",
      "source": [
        "7. **What is the difference between “==” and “is” operators in Python ?**\n",
        "   - In Python, the \"==\" and \"is\" operators are used for comparison, but they serve different purposes.\n",
        "\n",
        "- **== (Equality operator)**: It checks if the values of two objects are the same. It compares the contents or data of the objects.\n",
        "   - Example:"
      ],
      "metadata": {
        "id": "QZa4olDlyKSo"
      }
    },
    {
      "cell_type": "code",
      "source": [
        "a = [1, 2, 3]\n",
        "b = [1, 2, 3]\n",
        "print(a == b)  # Output: True, because the lists have the same contents."
      ],
      "metadata": {
        "colab": {
          "base_uri": "https://localhost:8080/"
        },
        "id": "5wVMh89J8S1D",
        "outputId": "4fb054dd-68df-45dd-9890-8816275e8a2d"
      },
      "execution_count": null,
      "outputs": [
        {
          "output_type": "stream",
          "name": "stdout",
          "text": [
            "True\n"
          ]
        }
      ]
    },
    {
      "cell_type": "markdown",
      "source": [
        "- **is (Identity operator)**: It checks if two references point to the same object in memory. It compares the identity (memory location) of the objects, not the values.\n",
        "\n",
        "    - Example:\n"
      ],
      "metadata": {
        "id": "EqnyXt-VyKYJ"
      }
    },
    {
      "cell_type": "code",
      "source": [
        "a = [1, 2, 3]\n",
        "b = [1, 2, 3]\n",
        "print(a is b)  # Output: False, because a and b are different objects in memory."
      ],
      "metadata": {
        "colab": {
          "base_uri": "https://localhost:8080/"
        },
        "id": "QzHi27B78qiL",
        "outputId": "0cdc87a4-f343-4358-d8a4-3e0124acb835"
      },
      "execution_count": null,
      "outputs": [
        {
          "output_type": "stream",
          "name": "stdout",
          "text": [
            "False\n"
          ]
        }
      ]
    },
    {
      "cell_type": "markdown",
      "source": [
        "   - **\"==\"** compares values (contents).\n",
        "   - **\"is\"** compares memory locations (whether both variables refer to the same object in memory).\n"
      ],
      "metadata": {
        "id": "891_3HskyKd7"
      }
    },
    {
      "cell_type": "markdown",
      "source": [
        "8. What are logical operators in Python ?\n",
        "   - In Python, logical operators are used to combine conditional statements and evaluate their true values.\n",
        "\n",
        "   - The main logical operators in Python are:\n",
        "     - **and** : Returns True if both conditions are true. If any of the conditions is false, it returns False.\n",
        "\n",
        "     - **or** : Returns True if at least one of the conditions is true. If both are false, it returns False.\n",
        "\n",
        "     - **not** : Reverses the boolean value. If the condition is True, it returns False, and vice versa."
      ],
      "metadata": {
        "id": "_tu2hmyNyKjw"
      }
    },
    {
      "cell_type": "code",
      "source": [
        "x = 4\n",
        "x < 5 and x < 10  # Returns True if both conditions are true"
      ],
      "metadata": {
        "colab": {
          "base_uri": "https://localhost:8080/"
        },
        "id": "gjS5COAPBdHR",
        "outputId": "285c4190-2091-4d12-bfb1-b673867a91bb"
      },
      "execution_count": null,
      "outputs": [
        {
          "output_type": "execute_result",
          "data": {
            "text/plain": [
              "True"
            ]
          },
          "metadata": {},
          "execution_count": 10
        }
      ]
    },
    {
      "cell_type": "code",
      "source": [
        "x < 5 or x < 10   # Returns True if at least one condition is true."
      ],
      "metadata": {
        "colab": {
          "base_uri": "https://localhost:8080/"
        },
        "id": "M2kkCPrrCyOK",
        "outputId": "e8529c01-a196-4068-e37c-2b8903e5a7ff"
      },
      "execution_count": null,
      "outputs": [
        {
          "output_type": "execute_result",
          "data": {
            "text/plain": [
              "True"
            ]
          },
          "metadata": {},
          "execution_count": 11
        }
      ]
    },
    {
      "cell_type": "code",
      "source": [
        "not(x < 5 and x < 10)  # Returns True if both conditions are false"
      ],
      "metadata": {
        "colab": {
          "base_uri": "https://localhost:8080/"
        },
        "id": "PQmjJ_hDC3Gx",
        "outputId": "98783b69-6571-4d06-ac7c-5c660640971d"
      },
      "execution_count": null,
      "outputs": [
        {
          "output_type": "execute_result",
          "data": {
            "text/plain": [
              "False"
            ]
          },
          "metadata": {},
          "execution_count": 13
        }
      ]
    },
    {
      "cell_type": "code",
      "source": [
        "not (x > 5) # True if x is not greater than 5"
      ],
      "metadata": {
        "colab": {
          "base_uri": "https://localhost:8080/"
        },
        "id": "Ay3T0_FODYxj",
        "outputId": "461d6a4c-e346-426a-b16a-e9d4aecc9f51"
      },
      "execution_count": null,
      "outputs": [
        {
          "output_type": "execute_result",
          "data": {
            "text/plain": [
              "True"
            ]
          },
          "metadata": {},
          "execution_count": 14
        }
      ]
    },
    {
      "cell_type": "markdown",
      "source": [
        "9. **What is type casting in Python ?**\n",
        "   - Type casting in Python refers to the process of converting one data type to another. This can be done explicitly using functions or implicitly by Python.\n",
        "\n",
        "   - There are two main types of type casting:\n",
        "    - Implicit Type Casting\n",
        "    - Explicit Type Casting"
      ],
      "metadata": {
        "id": "4flFm8EPyKpA"
      }
    },
    {
      "cell_type": "code",
      "source": [
        "#Implicit Type Casting\n",
        "\n",
        "x = 50      #int\n",
        "y = 5.5     #float\n",
        "z = x + y   # x is automatically converted from an integer to a float during the addition operation\n",
        "type(z)     # z = 55.5 (float)"
      ],
      "metadata": {
        "colab": {
          "base_uri": "https://localhost:8080/"
        },
        "id": "x2G-FfjQqDam",
        "outputId": "350d8bc6-fbd2-4c02-f969-a506cca07569"
      },
      "execution_count": null,
      "outputs": [
        {
          "output_type": "execute_result",
          "data": {
            "text/plain": [
              "float"
            ]
          },
          "metadata": {},
          "execution_count": 20
        }
      ]
    },
    {
      "cell_type": "code",
      "source": [
        "#Explicit Type Casting\n",
        "\n",
        "x = 55.5     #float\n",
        "y = int(x)   # Programmmer have used functions to manually convert the variable from float type to int type\n",
        "type(y)"
      ],
      "metadata": {
        "colab": {
          "base_uri": "https://localhost:8080/"
        },
        "id": "N4NYUj6qq-AG",
        "outputId": "6d2ec372-5b2a-44cc-f897-d95784ad8893"
      },
      "execution_count": null,
      "outputs": [
        {
          "output_type": "execute_result",
          "data": {
            "text/plain": [
              "int"
            ]
          },
          "metadata": {},
          "execution_count": 19
        }
      ]
    },
    {
      "cell_type": "markdown",
      "source": [
        "10. **What is the difference between implicit and explicit type casting ?**\n",
        " - **Implicit Type Casting -**\n",
        "      - Implicit type casting is done automatically by Python when it converts a smaller data type to a larger data type.\n",
        "\n",
        "      - This occurs when Python automatically converts one data type to another without the programmer's intervention, usually when no data loss is possible.\n",
        "      \n",
        "      - Example : Converting an integer to a float."
      ],
      "metadata": {
        "id": "n8KBtjSvyKuI"
      }
    },
    {
      "cell_type": "code",
      "source": [
        "# IMPLICIT TYPE CASTING\n",
        "\n",
        "x = 5           # int\n",
        "y = 2.5         # float\n",
        "result = x + y  # Python automatically converts x to float before adding\n",
        "print(result)   # Output: 7.5 (float)\n",
        "                # In this example, Python implicitly converts the integer x to a float to perform the addition with y."
      ],
      "metadata": {
        "colab": {
          "base_uri": "https://localhost:8080/"
        },
        "id": "HSWxvZtMvdHD",
        "outputId": "24f371f0-2376-4baa-8272-b23bba6e2cca"
      },
      "execution_count": null,
      "outputs": [
        {
          "output_type": "stream",
          "name": "stdout",
          "text": [
            "7.5\n"
          ]
        }
      ]
    },
    {
      "cell_type": "markdown",
      "source": [
        "- **Explicit Type Casting -**\n",
        "  - Explicit type casting is when the programmer manually converts one data type to another using built-in functions like int(), float(), str(), etc.\n",
        "\n",
        "  - The programmer explicitly specifies the conversion from one type to another, often to ensure correct data handling.\n",
        "\n",
        "  - Example : Converting a string to an integer.\n"
      ],
      "metadata": {
        "id": "fbNpuhXdyKzU"
      }
    },
    {
      "cell_type": "code",
      "source": [
        "# EXPLICIT TYPE CASTING\n",
        "\n",
        "x = \"123\"   # string\n",
        "y = int(x)  # explicit conversion to int\n",
        "print(y)    # Output: 123 (int)\n",
        "            # Here, the string x is explicitly converted into an integer using the int() function."
      ],
      "metadata": {
        "colab": {
          "base_uri": "https://localhost:8080/"
        },
        "id": "uJiRGCiIxa45",
        "outputId": "af7c790a-dd34-48f9-9733-2af652e74525"
      },
      "execution_count": null,
      "outputs": [
        {
          "output_type": "stream",
          "name": "stdout",
          "text": [
            "123\n"
          ]
        }
      ]
    },
    {
      "cell_type": "markdown",
      "source": [
        "11. **What is the purpose of conditional statements in Python ?**\n",
        "    - Conditional statements in Python are used to make decisions in code based on whether a specific condition (or a set of conditions) is true or false. They allow us to control the flow of your program by executing different blocks of code depending on certain conditions.\n",
        "\n",
        "   - **Purpose of Conditional Statements :**\n",
        "     - **Decision-making** : It helps our program to decide between different actions based on conditions.\n",
        "\n",
        "     - **Control Flow** : It directs the flow of the program, allowing certain code to execute only when specific conditions are true.\n",
        "\n",
        "     - **Error Handling** : It can also be used to check for errors or unexpected inputs and handle them gracefully.\n",
        "\n",
        "  - Conditional statements in Python enable our program to make decisions and perform specific actions depending on different conditions."
      ],
      "metadata": {
        "id": "6ACheIFcyK4A"
      }
    },
    {
      "cell_type": "markdown",
      "source": [
        "12.  **How does the elif statement work ?**\n",
        "     - The elif (\"else if\") statement in Python allows us to check multiple conditions in a sequential manner. It is used after an **if** statement and before an **else** statement, to provide additional conditions that are checked only if the previous **if** or **elif** conditions are False.\n",
        "\n",
        "      - First, Python checks the condition in the **if** statement.\n",
        "\n",
        "      - If the **if** condition is False, it moves to the next **elif** condition (**if** any).\n",
        "\n",
        "      - If any **elif** condition is True, the block of code associated with that **elif** is executed, and the rest of the **elif** statements are ignored.\n",
        "       \n",
        "      - If none of the **if** or **elif** conditions are True, the **else** block is executed (if provided)."
      ],
      "metadata": {
        "id": "nYhlWekWyK8q"
      }
    },
    {
      "cell_type": "code",
      "source": [
        "# EXAMPLE (elif statement)\n",
        "\n",
        "age = 24\n",
        "if age < 13:        # Python first checks if age < 13. Since age is 24, this condition is False, so it moves to the next elif\n",
        "    print(\"You are a child.\")\n",
        "elif age < 18:      # It checks if age < 18. This condition is also False, so it moves to the next elif\n",
        "    print(\"You are a teenager.\")\n",
        "elif age < 65:      # It checks if age < 65. This condition is True, so the block of code under this elif is executed\n",
        "    print(\"You are an adult.\")     # \"You are an adult.\" is printed\n",
        "else:               # The else block is not reached, because one of the elif conditions was True\n",
        "    print(\"You are a senior.\")\n"
      ],
      "metadata": {
        "colab": {
          "base_uri": "https://localhost:8080/"
        },
        "id": "ouQOperx3_tA",
        "outputId": "8dc723d8-1e15-4ae8-ea62-d154442dd2e3"
      },
      "execution_count": null,
      "outputs": [
        {
          "output_type": "stream",
          "name": "stdout",
          "text": [
            "You are an adult.\n"
          ]
        }
      ]
    },
    {
      "cell_type": "markdown",
      "source": [
        " 13. **What is the difference between for and while loops ?**\n",
        "     - **for Loop** :\n",
        "      - A for loop is used when we want to iterate over a sequence (like a list, tuple, dictionary, set, or string) or a range of numbers.\n",
        "\n",
        "      - The for loop automatically iterates through each item in a sequence and executes a block of code for each item.\n",
        "\n",
        "      - We use this loop, when we know in advance how many times we need to loop or when we are iterating over a collection of items.\n",
        "\n",
        "     - **while Loop**:\n",
        "      - A while loop is used when we want to repeat a block of code as long as a specified condition is True.\n",
        "\n",
        "      - The loop keeps running as long as the condition evaluates to True. If the condition becomes False, the loop terminates.\n",
        "\n",
        "      - When we don't know in advance how many times we need to loop, but we want to continue looping until a certain condition is met."
      ],
      "metadata": {
        "id": "WvSbnxsC2An8"
      }
    },
    {
      "cell_type": "code",
      "source": [
        "# EXAMPLE (Iterating over a list of numbers using for loop)\n",
        "\n",
        "numbers = [1, 2, 3, 4, 5]\n",
        "for number in numbers:    # The for loop iterates through each element in the list numbers and prints each number\n",
        "  print(number)"
      ],
      "metadata": {
        "colab": {
          "base_uri": "https://localhost:8080/"
        },
        "id": "NlisnfvWzK4Z",
        "outputId": "cc78ebff-00ab-441b-eff1-90698e3e96fb"
      },
      "execution_count": null,
      "outputs": [
        {
          "output_type": "stream",
          "name": "stdout",
          "text": [
            "1\n",
            "2\n",
            "3\n",
            "4\n",
            "5\n"
          ]
        }
      ]
    },
    {
      "cell_type": "code",
      "source": [
        "# EXAMPLE (Using a while loop to print numbers 1 to 5)\n",
        "\n",
        "count = 1\n",
        "while count <= 5:   # The while loop keeps running as long as count <= 5 is True.\n",
        "  print(count)      # Each time, it prints the value of count and then increments it by 1. The loop stops when count becomes greater than 5.\n",
        "  count += 1"
      ],
      "metadata": {
        "colab": {
          "base_uri": "https://localhost:8080/"
        },
        "id": "vL1u1tkk0CAa",
        "outputId": "ac99997b-36db-4972-f4b8-faaef1d6309c"
      },
      "execution_count": null,
      "outputs": [
        {
          "output_type": "stream",
          "name": "stdout",
          "text": [
            "1\n",
            "2\n",
            "3\n",
            "4\n",
            "5\n"
          ]
        }
      ]
    },
    {
      "cell_type": "markdown",
      "source": [
        "14. **Describe a scenario where a while loop is more suitable than a for loop.**\n",
        "    - A **while loop** is more suitable than a **for loop** in scenarios where we don't know in advance how many times the loop should run, and the loop needs to continue running based on a dynamic condition.\n",
        "\n",
        "    - Specifically, it’s useful when the number of iterations is not determined by a fixed sequence or range, but rather by some condition that could change during execution.\n",
        "\n",
        "    - **Scenario :** **(Waiting for user Input)**\n",
        "     - Imagine we have a program that asks the user to input a valid password. We don’t know how many attempts the user will need to provide a valid password, so we cannot use a **for loop** that iterates a fixed number of times. Instead, we would use a **while loop** to keep asking for the password until the user provides the correct one."
      ],
      "metadata": {
        "id": "9hgejgZo2Awp"
      }
    },
    {
      "cell_type": "code",
      "source": [
        "# SCENARIO (Waiting for user input)\n",
        "\n",
        "correct_password = \"python123\"\n",
        "user_input = \"\"\n",
        "while user_input != correct_password:               # Use a while loop to keep asking for the password until it's correct\n",
        "  user_input = input(\"Please enter the password: \")\n",
        "print(\"Password accepted!\")"
      ],
      "metadata": {
        "colab": {
          "base_uri": "https://localhost:8080/"
        },
        "id": "BF2VPWSd288s",
        "outputId": "97be5ea2-c925-4d5d-a2b8-d06bbc36e57f"
      },
      "execution_count": null,
      "outputs": [
        {
          "output_type": "stream",
          "name": "stdout",
          "text": [
            "Please enter the password: python123\n",
            "Password accepted!\n"
          ]
        }
      ]
    },
    {
      "cell_type": "markdown",
      "source": [
        "  - Here **while loop** is more suitable than **for loop** because,\n",
        "   - The number of attempts is *unknown* and it can vary, making a **for loop** (which requires a known range or sequence) inappropriate.\n",
        "   - The loop condition (user_input != correct_password) is dynamic and depends on user input, which fits the behavior of a **while loop**.\n"
      ],
      "metadata": {
        "id": "nqyRIMGk46zw"
      }
    },
    {
      "cell_type": "markdown",
      "source": [
        "**PRACTICAL QUESTIONS**"
      ],
      "metadata": {
        "id": "BfmllTSCoGCe"
      }
    },
    {
      "cell_type": "markdown",
      "source": [
        "1. **Write a Python program to print \"Hello World!\"**"
      ],
      "metadata": {
        "id": "cPuG5CgUosIj"
      }
    },
    {
      "cell_type": "code",
      "source": [
        "print(\"Hello World!\")"
      ],
      "metadata": {
        "colab": {
          "base_uri": "https://localhost:8080/"
        },
        "id": "cHo8z-c4offB",
        "outputId": "41bde386-9f56-4932-ed28-ba03ef0042e3"
      },
      "execution_count": null,
      "outputs": [
        {
          "output_type": "stream",
          "name": "stdout",
          "text": [
            "Hello World!\n"
          ]
        }
      ]
    },
    {
      "cell_type": "markdown",
      "source": [
        "2. **Write a Python program that displays your name and age.**"
      ],
      "metadata": {
        "id": "yy9Pc0eipbVU"
      }
    },
    {
      "cell_type": "code",
      "source": [
        "name = \"Satyam\"\n",
        "age = 24\n",
        "print(\"Name:\", name)\n",
        "print(\"Age:\", age)"
      ],
      "metadata": {
        "colab": {
          "base_uri": "https://localhost:8080/"
        },
        "id": "nnn1oVnfpWZs",
        "outputId": "f86140c4-8860-4f2a-8728-0449fe919a68"
      },
      "execution_count": null,
      "outputs": [
        {
          "output_type": "stream",
          "name": "stdout",
          "text": [
            "Name: Satyam\n",
            "Age: 24\n"
          ]
        }
      ]
    },
    {
      "cell_type": "markdown",
      "source": [
        "3. **Write code to print all the pre-defined keywords in Python using the keyword library.**"
      ],
      "metadata": {
        "id": "ZdDu3Eu5qVfW"
      }
    },
    {
      "cell_type": "code",
      "source": [
        "import keyword\n",
        "print(keyword.kwlist) #This will print all the pre-defined keywords in Python"
      ],
      "metadata": {
        "colab": {
          "base_uri": "https://localhost:8080/"
        },
        "id": "8Ad_MoHvqTZt",
        "outputId": "712bd1c5-9138-4bdd-825a-1a1273f88006"
      },
      "execution_count": null,
      "outputs": [
        {
          "output_type": "stream",
          "name": "stdout",
          "text": [
            "['False', 'None', 'True', 'and', 'as', 'assert', 'async', 'await', 'break', 'class', 'continue', 'def', 'del', 'elif', 'else', 'except', 'finally', 'for', 'from', 'global', 'if', 'import', 'in', 'is', 'lambda', 'nonlocal', 'not', 'or', 'pass', 'raise', 'return', 'try', 'while', 'with', 'yield']\n"
          ]
        }
      ]
    },
    {
      "cell_type": "markdown",
      "source": [
        "4. **Write a program that checks if a given word is a Python keyword.**"
      ],
      "metadata": {
        "id": "QKZrmC5YrpBF"
      }
    },
    {
      "cell_type": "code",
      "source": [
        "import keyword\n",
        "word = input(\"Enter a word: \")\n",
        "if keyword.iskeyword(word):  # It will check if the entered word is a keyword or not\n",
        "    print(word, \"is a Python keyword.\")\n",
        "else:\n",
        "    print(word, \"is not a Python keyword.\")"
      ],
      "metadata": {
        "colab": {
          "base_uri": "https://localhost:8080/"
        },
        "id": "slSXiKLDrl98",
        "outputId": "ba95176d-1cdc-406c-fc78-f7412e11ab3f"
      },
      "execution_count": null,
      "outputs": [
        {
          "output_type": "stream",
          "name": "stdout",
          "text": [
            "Enter a word: if\n",
            "if is a Python keyword.\n"
          ]
        }
      ]
    },
    {
      "cell_type": "markdown",
      "source": [
        "5. **Create a list and tuple in Python and demonstrate how attempting to change an element works differently for each.**"
      ],
      "metadata": {
        "id": "cmY2uPeDs7SR"
      }
    },
    {
      "cell_type": "code",
      "source": [
        "my_list = [1, 2, 3, 4, 5]\n",
        "my_tuple = (1, 2, 3, 4, 5)\n",
        "\n",
        "# Trying to change an element in the list (which is mutable)\n",
        "my_list[0] = 10\n",
        "print(my_list)     # Output: [10, 2, 3, 4, 5]\n",
        "\n",
        "# Trying to change an element in the tuple (which is immutable)\n",
        "my_tuple[0] = 10   # This will raise a TypeError: 'tuple' object does not support item assignment"
      ],
      "metadata": {
        "id": "VsX8nuhDs6Lr",
        "collapsed": true
      },
      "execution_count": null,
      "outputs": []
    },
    {
      "cell_type": "markdown",
      "source": [
        "6.  **Write a function to demonstrate the behavior of mutable and immutable arguments.**"
      ],
      "metadata": {
        "id": "O3zXJp2o-pLt"
      }
    },
    {
      "cell_type": "code",
      "source": [
        "def demonstrate_mutable_immutable():\n",
        "\n",
        "    # Immutable argument (string)\n",
        "    def immutable_argument(value):\n",
        "        print(f\"Before change: {value}\")\n",
        "        value = \"Changed\"\n",
        "        print(f\"After change: {value}\")\n",
        "\n",
        "    # Mutable argument (list)\n",
        "    def mutable_argument(value):\n",
        "        print(f\"Before change: {value}\")\n",
        "        value.append(4)\n",
        "        print(f\"After change: {value}\")\n",
        "\n",
        "    # Demonstrating immutable argument (string)\n",
        "    my_string = \"Original\"\n",
        "    print(\"Immutable Argument Behavior:\")\n",
        "    print(f\"Original value: {my_string}\")\n",
        "    immutable_argument(my_string)                 # Will not modify the original string\n",
        "    print(f\"After function call: {my_string}\\n\")  # Original string remains unchanged\n",
        "\n",
        "    # Demonstrating mutable argument (list)\n",
        "    my_list = [1, 2, 3]\n",
        "    print(\"Mutable Argument Behavior:\")\n",
        "    print(f\"Original list: {my_list}\")\n",
        "    mutable_argument(my_list)                 # Will modify the original list\n",
        "    print(f\"After function call: {my_list}\")  # Original list is modified\n",
        "\n",
        "# Call the function\n",
        "demonstrate_mutable_immutable()"
      ],
      "metadata": {
        "colab": {
          "base_uri": "https://localhost:8080/"
        },
        "id": "XDtP7U0KH-Uh",
        "outputId": "f21bf7bb-24ad-4e9c-9695-4dd6298e270b"
      },
      "execution_count": null,
      "outputs": [
        {
          "output_type": "stream",
          "name": "stdout",
          "text": [
            "Immutable Argument Behavior:\n",
            "Original value: Original\n",
            "Before change: Original\n",
            "After change: Changed\n",
            "After function call: Original\n",
            "\n",
            "Mutable Argument Behavior:\n",
            "Original list: [1, 2, 3]\n",
            "Before change: [1, 2, 3]\n",
            "After change: [1, 2, 3, 4]\n",
            "After function call: [1, 2, 3, 4]\n"
          ]
        }
      ]
    },
    {
      "cell_type": "markdown",
      "source": [
        "7. **Write a function to demonstrate the behavior of mutable and immutable arguments.**"
      ],
      "metadata": {
        "id": "cqTAadGrINec"
      }
    },
    {
      "cell_type": "code",
      "source": [
        "def demonstrate_mutable_immutable():\n",
        "\n",
        "    # Immutable argument (string)\n",
        "    def immutable_argument(value):\n",
        "        print(f\"Before change: {value}\")\n",
        "        value = \"Changed\"\n",
        "        print(f\"After change: {value}\")\n",
        "\n",
        "    # Mutable argument (list)\n",
        "    def mutable_argument(value):\n",
        "        print(f\"Before change: {value}\")\n",
        "        value.append(4)\n",
        "        print(f\"After change: {value}\")\n",
        "\n",
        "    # Demonstrating immutable argument (string)\n",
        "    my_string = \"Original\"\n",
        "    print(\"Immutable Argument Behavior:\")\n",
        "    print(f\"Original value: {my_string}\")\n",
        "    immutable_argument(my_string)  # Will not modify the original string\n",
        "    print(f\"After function call: {my_string}\\n\")  # Original string remains unchanged\n",
        "\n",
        "    # Demonstrating mutable argument (list)\n",
        "    my_list = [1, 2, 3]\n",
        "    print(\"Mutable Argument Behavior:\")\n",
        "    print(f\"Original list: {my_list}\")\n",
        "    mutable_argument(my_list)  # Will modify the original list\n",
        "    print(f\"After function call: {my_list}\")  # Original list is modified\n",
        "\n",
        "# Call the function\n",
        "demonstrate_mutable_immutable()"
      ],
      "metadata": {
        "colab": {
          "base_uri": "https://localhost:8080/"
        },
        "id": "3SI25TYzIN1b",
        "outputId": "d8288a4d-bcf3-4c4b-e28b-ab40ead1065a"
      },
      "execution_count": null,
      "outputs": [
        {
          "output_type": "stream",
          "name": "stdout",
          "text": [
            "Immutable Argument Behavior:\n",
            "Original value: Original\n",
            "Before change: Original\n",
            "After change: Changed\n",
            "After function call: Original\n",
            "\n",
            "Mutable Argument Behavior:\n",
            "Original list: [1, 2, 3]\n",
            "Before change: [1, 2, 3]\n",
            "After change: [1, 2, 3, 4]\n",
            "After function call: [1, 2, 3, 4]\n"
          ]
        }
      ]
    },
    {
      "cell_type": "markdown",
      "source": [
        "8. **Write a program to demonstrate the use of logical operators.**"
      ],
      "metadata": {
        "id": "9u8wCipvI8Ee"
      }
    },
    {
      "cell_type": "code",
      "source": [
        "a = True\n",
        "b = False\n",
        "x = 5\n",
        "y = 10\n",
        "\n",
        "# Using 'and' operator\n",
        "if a and b:\n",
        "    print(\"Both a and b are True\")\n",
        "else:\n",
        "    print(\"At least one of a or b is False\")\n",
        "\n",
        "# Using 'or' operator\n",
        "if a or b:\n",
        "    print(\"At least one of a or b is True\")\n",
        "else:\n",
        "    print(\"Both a and b are False\")\n",
        "\n",
        "# Using 'not' operator\n",
        "if not a:\n",
        "    print(\"a is False\")\n",
        "else:\n",
        "    print(\"a is True\")\n",
        "\n",
        "# Combining logical operators\n",
        "if x > 3 and y < 15:\n",
        "    print(\"x is greater than 3 and y is less than 15\")\n",
        "\n",
        "if x == 5 or y == 5:\n",
        "    print(\"Either x is 5 or y is 5\")\n",
        "\n",
        "if not (x == 5):\n",
        "    print(\"x is not 5\")\n",
        "else:\n",
        "    print(\"x is 5\")"
      ],
      "metadata": {
        "colab": {
          "base_uri": "https://localhost:8080/"
        },
        "id": "S1TwUNQxI8Ny",
        "outputId": "51948803-62c5-42cd-a03d-c8827f24cc7b"
      },
      "execution_count": null,
      "outputs": [
        {
          "output_type": "stream",
          "name": "stdout",
          "text": [
            "At least one of a or b is False\n",
            "At least one of a or b is True\n",
            "a is True\n",
            "x is greater than 3 and y is less than 15\n",
            "Either x is 5 or y is 5\n",
            "x is 5\n"
          ]
        }
      ]
    },
    {
      "cell_type": "markdown",
      "source": [
        "9.  **Write a Python program to convert user input from string to integer, float, and boolean types.**"
      ],
      "metadata": {
        "id": "-yejE6ceJ3qB"
      }
    },
    {
      "cell_type": "code",
      "source": [
        "user_input = input(\"Enter a value: \")  # get user input as a string\n",
        "\n",
        "# Convert string to integer\n",
        "try:\n",
        "    user_input_int = int(user_input)\n",
        "    print(f\"The integer value is: {user_input_int}\")\n",
        "except ValueError:\n",
        "    print(\"Could not convert input to integer.\")\n",
        "\n",
        "# Convert string to float\n",
        "try:\n",
        "    user_input_float = float(user_input)\n",
        "    print(f\"The float value is: {user_input_float}\")\n",
        "except ValueError:\n",
        "    print(\"Could not convert input to float.\")\n",
        "\n",
        "# Convert string to boolean\n",
        "# This works for strings like 'True', 'False', '1', '0'\n",
        "if user_input.lower() == 'true' or user_input == '1':\n",
        "    user_input_bool = True\n",
        "elif user_input.lower() == 'false' or user_input == '0':\n",
        "    user_input_bool = False\n",
        "else:\n",
        "    user_input_bool = bool(user_input)\n",
        "\n",
        "print(f\"The boolean value is: {user_input_bool}\")"
      ],
      "metadata": {
        "colab": {
          "base_uri": "https://localhost:8080/"
        },
        "collapsed": true,
        "id": "_sPAsHSmJ3zg",
        "outputId": "d15fc41c-bad1-446a-c469-410bae5d99a8"
      },
      "execution_count": null,
      "outputs": [
        {
          "output_type": "stream",
          "name": "stdout",
          "text": [
            "Enter a value: 55\n",
            "The integer value is: 55\n",
            "The float value is: 55.0\n",
            "The boolean value is: True\n"
          ]
        }
      ]
    },
    {
      "cell_type": "markdown",
      "source": [
        "10.  **Write code to demonstrate type casting with list elements.**"
      ],
      "metadata": {
        "id": "oyE6ave8L-qu"
      }
    },
    {
      "cell_type": "code",
      "source": [
        "mixed_list = ['123', '45.67', True, 89]\n",
        "\n",
        "# Type casting: Converting string to integer, string to float, boolean to integer\n",
        "casted_list = [\n",
        "    int(mixed_list[0]),      # '123' -> 123 (string to integer)\n",
        "    float(mixed_list[1]),    # '45.67' -> 45.67 (string to float)\n",
        "    int(mixed_list[2]),      # True -> 1 (boolean to integer)\n",
        "    str(mixed_list[3])       # 89 -> '89' (integer to string)\n",
        "]\n",
        "\n",
        "print(\"Original list:\", mixed_list)   # Print the original list and the type-casted list\n",
        "print(\"Casted list:\", casted_list)\n",
        "\n",
        "for i, element in enumerate(casted_list):   # Checking the types of the casted elements\n",
        "    print(f\"Element {i} in casted list is of type {type(element)} and its value is {element}\")"
      ],
      "metadata": {
        "colab": {
          "base_uri": "https://localhost:8080/"
        },
        "id": "p9IgEHmcL-0W",
        "outputId": "8abed796-c49a-4805-962a-0a70c833953a"
      },
      "execution_count": null,
      "outputs": [
        {
          "output_type": "stream",
          "name": "stdout",
          "text": [
            "Original list: ['123', '45.67', True, 89]\n",
            "Casted list: [123, 45.67, 1, '89']\n",
            "Element 0 in casted list is of type <class 'int'> and its value is 123\n",
            "Element 1 in casted list is of type <class 'float'> and its value is 45.67\n",
            "Element 2 in casted list is of type <class 'int'> and its value is 1\n",
            "Element 3 in casted list is of type <class 'str'> and its value is 89\n"
          ]
        }
      ]
    },
    {
      "cell_type": "markdown",
      "source": [
        "11. **Write a program that checks if a number is positive, negative, or zero.**"
      ],
      "metadata": {
        "id": "pxCJgcATNcjw"
      }
    },
    {
      "cell_type": "code",
      "source": [
        "num = float(input(\"Enter a number: \"))\n",
        "\n",
        "# Checking the condition for positive, negative, or zero\n",
        "if num > 0:\n",
        "    print(\"The number is positive.\")\n",
        "elif num < 0:\n",
        "    print(\"The number is negative.\")\n",
        "else:\n",
        "    print(\"The number is zero.\")"
      ],
      "metadata": {
        "colab": {
          "base_uri": "https://localhost:8080/"
        },
        "id": "NwPOkXiMNcsm",
        "outputId": "f72f3e39-5791-4ec9-e089-ec51ee1a144d"
      },
      "execution_count": null,
      "outputs": [
        {
          "output_type": "stream",
          "name": "stdout",
          "text": [
            "Enter a number: 5\n",
            "The number is positive.\n"
          ]
        }
      ]
    },
    {
      "cell_type": "markdown",
      "source": [
        "12.  **Write a for loop to print numbers from 1 to 10.**"
      ],
      "metadata": {
        "id": "RByToHMtOB_q"
      }
    },
    {
      "cell_type": "code",
      "source": [
        "for num in range(1, 11):  # If we want to print upto 10, then we have to take 11.\n",
        "    print(num)"
      ],
      "metadata": {
        "colab": {
          "base_uri": "https://localhost:8080/"
        },
        "id": "sJPk_yXiOCIS",
        "outputId": "975565cd-6acf-4108-8d77-3b25ce2e9596"
      },
      "execution_count": null,
      "outputs": [
        {
          "output_type": "stream",
          "name": "stdout",
          "text": [
            "1\n",
            "2\n",
            "3\n",
            "4\n",
            "5\n",
            "6\n",
            "7\n",
            "8\n",
            "9\n",
            "10\n"
          ]
        }
      ]
    },
    {
      "cell_type": "markdown",
      "source": [
        "13. **Write a Python program to find the sum of all even numbers between 1 and 50.**"
      ],
      "metadata": {
        "id": "BxwreV-DOqm9"
      }
    },
    {
      "cell_type": "code",
      "source": [
        "sum_of_evens = 0\n",
        "\n",
        "# Use a for loop to iterate through numbers from 1 to 50\n",
        "for num in range(2, 51, 2):      # Starts from 2, and it will go up to 50, with a step of 2 (even numbers)\n",
        "    sum_of_evens += num\n",
        "\n",
        "print(\"The sum of all even numbers between 1 and 50 is:\", sum_of_evens)"
      ],
      "metadata": {
        "colab": {
          "base_uri": "https://localhost:8080/"
        },
        "id": "NnvRI0AXOqwj",
        "outputId": "b10576d7-7d67-48c3-aceb-31b150dc9398"
      },
      "execution_count": null,
      "outputs": [
        {
          "output_type": "stream",
          "name": "stdout",
          "text": [
            "The sum of all even numbers between 1 and 50 is: 650\n"
          ]
        }
      ]
    },
    {
      "cell_type": "markdown",
      "source": [
        "14. **Write a program to reverse a string using a while loop**."
      ],
      "metadata": {
        "id": "gtSQNAKAPUab"
      }
    },
    {
      "cell_type": "code",
      "source": [
        "original_string = input(\"Enter a string: \")\n",
        "\n",
        "# Initialize an empty string to store the reversed string\n",
        "reversed_string = \"\"\n",
        "\n",
        "# Initialize an index for the last character of the string\n",
        "index = len(original_string) - 1\n",
        "\n",
        "# Using a while loop to reverse the string\n",
        "while index >= 0:\n",
        "    reversed_string += original_string[index]\n",
        "    index -= 1\n",
        "\n",
        "print(\"Reversed string:\", reversed_string)"
      ],
      "metadata": {
        "colab": {
          "base_uri": "https://localhost:8080/"
        },
        "id": "pfms_hLSPUj5",
        "outputId": "8c882696-eadf-4785-fc33-4ad8e16d4cdb"
      },
      "execution_count": null,
      "outputs": [
        {
          "output_type": "stream",
          "name": "stdout",
          "text": [
            "Enter a string: HELLO WORLD\n",
            "Reversed string: DLROW OLLEH\n"
          ]
        }
      ]
    },
    {
      "cell_type": "markdown",
      "source": [
        "15.  **Write a Python program to calculate the factorial of a number provided by the user using a while loop.**"
      ],
      "metadata": {
        "id": "-WwebMxTP-pw"
      }
    },
    {
      "cell_type": "code",
      "source": [
        "num = int(input(\"Enter a number to calculate its factorial: \"))\n",
        "\n",
        "# Initialize variables\n",
        "factorial = 1\n",
        "i = 1\n",
        "\n",
        "# Using a while loop to calculate the factorial\n",
        "while i <= num:\n",
        "    factorial *= i\n",
        "    i += 1\n",
        "\n",
        "print(f\"The factorial of {num} is: {factorial}\")"
      ],
      "metadata": {
        "colab": {
          "base_uri": "https://localhost:8080/"
        },
        "id": "odLNUfYWP-0w",
        "outputId": "6428c611-280e-4739-fd5d-b44c65ffa974"
      },
      "execution_count": null,
      "outputs": [
        {
          "output_type": "stream",
          "name": "stdout",
          "text": [
            "Enter a number to calculate its factorial: 5\n",
            "The factorial of 5 is: 120\n"
          ]
        }
      ]
    }
  ]
}